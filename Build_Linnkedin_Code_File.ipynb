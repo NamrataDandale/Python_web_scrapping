{
 "cells": [
  {
   "cell_type": "markdown",
   "metadata": {},
   "source": [
    "## Build Linkedin Dataset Research"
   ]
  },
  {
   "cell_type": "code",
   "execution_count": null,
   "metadata": {},
   "outputs": [],
   "source": [
    "#Pyhton lib\n",
    "pip install selenium"
   ]
  },
  {
   "cell_type": "code",
   "execution_count": null,
   "metadata": {},
   "outputs": [],
   "source": [
    "#Python Library used to pull the data from the HTML and XML Files\n",
    "pip install beautifulsoup4"
   ]
  },
  {
   "cell_type": "code",
   "execution_count": null,
   "metadata": {},
   "outputs": [],
   "source": [
    "import os,random,sys,time\n",
    "from selenium import webdriver\n",
    "from bs4 import BeautifulSoup\n"
   ]
  },
  {
   "cell_type": "code",
   "execution_count": null,
   "metadata": {},
   "outputs": [],
   "source": [
    "#Chrome driver to open the chrome window to control activities through the program\n",
    "#driver is the name of the folder and chromedriver is the exe file downloaded as per the google chrome installed in my system.\n",
    "browser = webdriver.Chrome('driver/chromedriver.exe')"
   ]
  },
  {
   "cell_type": "code",
   "execution_count": null,
   "metadata": {},
   "outputs": [],
   "source": [
    "#accessing the linkedin url\n",
    "browser.get('https://www.linkedin.com/login?fromSignIn=true&trk=guest_homepage-basic_nav-header-signin')"
   ]
  },
  {
   "cell_type": "code",
   "execution_count": null,
   "metadata": {},
   "outputs": [],
   "source": [
    "#File to pull the config file which has username and password\n",
    "#The linkedin profile will be logged in by using the email and password of this file\n",
    "file=open('document/config.txt')\n",
    "\n",
    "#It will read data of the file\n",
    "lines=file.readlines()\n",
    "\n",
    "#The line describe the username written on first line of the file\n",
    "username=lines[0]\n",
    "\n",
    "#The line describe the Password written on second line of the file\n",
    "password=lines[1]"
   ]
  },
  {
   "cell_type": "code",
   "execution_count": null,
   "metadata": {},
   "outputs": [],
   "source": [
    "#This line of code will add the data on the username block of the lined in site\n",
    "elementId=browser.find_element_by_id('username')\n",
    "elementId.send_keys(username)"
   ]
  },
  {
   "cell_type": "code",
   "execution_count": null,
   "metadata": {},
   "outputs": [],
   "source": [
    "#This line of code will add the data on the password block of the lined in site\n",
    "\n",
    "elementId=browser.find_element_by_id('password')\n",
    "elementId.send_keys(password)"
   ]
  },
  {
   "cell_type": "code",
   "execution_count": null,
   "metadata": {},
   "outputs": [],
   "source": [
    "#click on submit button\n",
    "elementId.submit()"
   ]
  },
  {
   "cell_type": "code",
   "execution_count": null,
   "metadata": {},
   "outputs": [],
   "source": [
    "#This file holds input url that is linked in url and reads it line by line\n",
    "file=open('C:/Users/namra/Documents/complete python and machine learning/Coding Ninjas/linked_Urls_To_Search.txt')\n",
    "inputList=file.readlines()\n",
    "\n",
    "#To store the output object and display it in the file\n",
    "info=[]"
   ]
  },
  {
   "cell_type": "code",
   "execution_count": null,
   "metadata": {},
   "outputs": [],
   "source": [
    "#Page scroll to read the entire page of the liniedin profile\n",
    "def pageScrollFunction():\n",
    "    SCROLL_PAUSE_TIME=5\n",
    "    last_height=browser.execute_script(\"return document.body.scrollHeight\")\n",
    "    for i in range(3):\n",
    "        browser.execute_script(\"window.scrollTo(0,document.body.scrollHeight);\")\n",
    "        time.sleep(SCROLL_PAUSE_TIME)\n",
    "        new_height = browser.execute_script(\"return document.body.scrollHeight\")\n",
    "        if new_height == last_height:\n",
    "            break\n",
    "        last_height = new_height\n",
    "        return 0\n",
    "     "
   ]
  },
  {
   "cell_type": "code",
   "execution_count": null,
   "metadata": {},
   "outputs": [],
   "source": [
    "#This function is called when the crawler runs to access the linkedin link and reads the\n",
    "#source code and returns it to the calling function\n",
    "\n",
    "def pageCallFunction(soup):\n",
    "    fullLink=soup\n",
    "    browser.get(fullLink)\n",
    "    src = browser.page_source\n",
    "    soup=BeautifulSoup(src,'lxml')\n",
    "    return soup"
   ]
  },
  {
   "cell_type": "markdown",
   "metadata": {},
   "source": [
    "### BIO"
   ]
  },
  {
   "cell_type": "code",
   "execution_count": null,
   "metadata": {},
   "outputs": [],
   "source": [
    "#This function returns the name ,connections available on the profile\n",
    "\n",
    "def nameProfileConnectionFunction(soup):\n",
    "    name_div = soup.find('div',{'class': 'flex-1 mr5'})\n",
    "    name_loc = name_div.find_all('ul')\n",
    "    name = name_loc[0].find('li').get_text().strip()\n",
    "    connection=name_loc[1].find_all('li')\n",
    "    connection=connection[1].get_text().strip()\n",
    "    info.append(name)\n",
    "    info.append(connection)\n",
    "    return info"
   ]
  },
  {
   "cell_type": "markdown",
   "metadata": {},
   "source": [
    "### Experience"
   ]
  },
  {
   "cell_type": "code",
   "execution_count": null,
   "metadata": {},
   "outputs": [],
   "source": [
    "#Position company and year  of the employee in an organizaton has these common code of lines so\n",
    "#,this function will be called when required which has reduced redundsncy of the code\n",
    "\n",
    "def positionEmployerYear(soup):\n",
    "    exp_section=soup.find('section',{'id' : 'experience-section'})\n",
    "    exp_section=exp_section.find('ul')\n",
    "    li_tags=exp_section.find('div')\n",
    "    a_tags = li_tags.find('a')\n",
    "    return a_tags\n",
    "\n"
   ]
  },
  {
   "cell_type": "code",
   "execution_count": null,
   "metadata": {},
   "outputs": [],
   "source": []
  },
  {
   "cell_type": "code",
   "execution_count": null,
   "metadata": {},
   "outputs": [],
   "source": [
    "#Calls the previous fucntion and return the position of the candidate\n",
    "\n",
    "def positionFunction(soup):\n",
    "    a_tags = positionEmployerYear(soup)\n",
    "    Position = a_tags.find('h3').get_text().strip()\n",
    "    info.append(Position)\n",
    "    return info"
   ]
  },
  {
   "cell_type": "code",
   "execution_count": null,
   "metadata": {},
   "outputs": [],
   "source": [
    "#   company fucntion will give the details of the company of employer\n",
    "\n",
    "def currentEmployerFunction(soup):\n",
    "    a_tags=positionEmployerYear(soup)\n",
    "    Current_Employer=a_tags.find_all('p')[1].get_text().strip()\n",
    "    info.append(Current_Employer)\n",
    "    return info"
   ]
  },
  {
   "cell_type": "code",
   "execution_count": null,
   "metadata": {},
   "outputs": [],
   "source": [
    "# Range of Dates of service in the organization\n",
    "\n",
    "def departmentDatesFunction(soup):\n",
    "    a_tags=positionEmployerYear(soup)\n",
    "    departmentDates=a_tags.find_all('h4')[0].find_all('span')[1].get_text().strip()\n",
    "    info.append(departmentDates)\n",
    "    return info\n",
    "     "
   ]
  },
  {
   "cell_type": "code",
   "execution_count": null,
   "metadata": {},
   "outputs": [],
   "source": [
    "# This functin will provide education background information for the candidate.\n",
    "#college name\n",
    "#degree name\n",
    "#Range of year of education\n",
    "\n",
    "def educationFunction(soup):\n",
    "    edu_section=soup.find('section',{'id' : 'education-section'}).find('ul')\n",
    "    college = edu_section.find('h3').get_text().strip()\n",
    "    degree_name = edu_section.find('p',{'class':'pv-entity__secondary-title pv-entity__fos t-14 t-black t-normal'}).find_all('span')[1].get_text()\n",
    "    degree_year = edu_section.find('p',{'class':'pv-entity__dates t-14 t-black--light t-normal'}).find_all('span')[1].get_text().strip()\n",
    "    info.append(college)\n",
    "    info.append(degree_name)\n",
    "    info.append(degree_year)\n",
    "    return info\n",
    "    "
   ]
  },
  {
   "cell_type": "code",
   "execution_count": null,
   "metadata": {},
   "outputs": [],
   "source": [
    "#This code will be executed by calling the previous defined functions and will display the return values of the fucntions.\n",
    "#inputlist = The list of the array execution.\n",
    "#info will dispaly the entire fetched output\n",
    "for i in inputList:\n",
    "    soup=pageCallFunction(i)\n",
    "    pageScrollFunction()\n",
    "    nameProfileConnectionFunction(soup)\n",
    "    positionFunction(soup)\n",
    "    currentEmployerFunction(soup)\n",
    "    departmentDatesFunction(soup)\n",
    "    info=educationFunction(soup)\n",
    "print(info)\n",
    "print()\n",
    "    \n",
    "   "
   ]
  },
  {
   "cell_type": "code",
   "execution_count": null,
   "metadata": {},
   "outputs": [],
   "source": []
  },
  {
   "cell_type": "code",
   "execution_count": null,
   "metadata": {},
   "outputs": [],
   "source": []
  },
  {
   "cell_type": "code",
   "execution_count": null,
   "metadata": {},
   "outputs": [],
   "source": []
  },
  {
   "cell_type": "code",
   "execution_count": null,
   "metadata": {},
   "outputs": [],
   "source": []
  },
  {
   "cell_type": "code",
   "execution_count": null,
   "metadata": {},
   "outputs": [],
   "source": []
  },
  {
   "cell_type": "code",
   "execution_count": null,
   "metadata": {},
   "outputs": [],
   "source": []
  },
  {
   "cell_type": "code",
   "execution_count": null,
   "metadata": {},
   "outputs": [],
   "source": []
  },
  {
   "cell_type": "code",
   "execution_count": null,
   "metadata": {},
   "outputs": [],
   "source": []
  },
  {
   "cell_type": "code",
   "execution_count": null,
   "metadata": {},
   "outputs": [],
   "source": []
  },
  {
   "cell_type": "code",
   "execution_count": null,
   "metadata": {},
   "outputs": [],
   "source": []
  },
  {
   "cell_type": "code",
   "execution_count": null,
   "metadata": {},
   "outputs": [],
   "source": []
  }
 ],
 "metadata": {
  "kernelspec": {
   "display_name": "Python 3",
   "language": "python",
   "name": "python3"
  },
  "language_info": {
   "codemirror_mode": {
    "name": "ipython",
    "version": 3
   },
   "file_extension": ".py",
   "mimetype": "text/x-python",
   "name": "python",
   "nbconvert_exporter": "python",
   "pygments_lexer": "ipython3",
   "version": "3.7.6"
  }
 },
 "nbformat": 4,
 "nbformat_minor": 4
}
